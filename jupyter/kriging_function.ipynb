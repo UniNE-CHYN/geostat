{
 "cells": [
  {
   "cell_type": "markdown",
   "metadata": {},
   "source": [
    "# Kriging in python\n",
    "\n",
    "Here, ordinary kriging using the geostat package is illustrated."
   ]
  },
  {
   "cell_type": "code",
   "execution_count": 1,
   "metadata": {
    "collapsed": true
   },
   "outputs": [],
   "source": [
    "import numpy as np\n",
    "import geostat as geo\n",
    "import matplotlib.pyplot as plt"
   ]
  },
  {
   "cell_type": "markdown",
   "metadata": {},
   "source": [
    "A data set"
   ]
  },
  {
   "cell_type": "code",
   "execution_count": 12,
   "metadata": {},
   "outputs": [
    {
     "data": {
      "image/png": "[encoded data removed]",
      "text/plain": [
       "<matplotlib.figure.Figure at 0x1dfef0f3518>"
      ]
     },
     "metadata": {},
     "output_type": "display_data"
    }
   ],
   "source": [
    "# Input data: the measurements\n",
    "x1 = np.array( [61,63,64,68,71,73,75] )        # Locations of the points (x1=x, x2=y)\n",
    "x2 = np.array( [139,140,129,128,140,141,128] )  \n",
    "v = np.array( [477,96,227,646,606,791,783] )   # Value of the measurements \n",
    "\n",
    "# The data in matrix form = one line per data point\n",
    "x = np.transpose( (x1,x2) )\n",
    "\n",
    "# The locations where we want to estimate \n",
    "x10 = np.array([63.1, 66, 69]); \n",
    "x20 = np.array([140, 132, 134]);\n",
    "xu = np.transpose( (x10,x20) )\n",
    "\n",
    "# Plot the data for visual check\n",
    "plt.plot(x1,x2,'+');   # Position des points\n",
    "plt.plot(x10,x20,'or') # Point où l'on veut estimer\n",
    "plt.show()"
   ]
  },
  {
   "cell_type": "markdown",
   "metadata": {},
   "source": [
    "## Kriging using the geostat module\n",
    "\n"
   ]
  },
  {
   "cell_type": "code",
   "execution_count": 15,
   "metadata": {},
   "outputs": [
    {
     "name": "stdout",
     "output_type": "stream",
     "text": [
      "[[ 102.36352305]\n",
      " [ 395.41363864]\n",
      " [ 526.231114  ]]\n",
      "[[ 39.78788501]\n",
      " [ 33.88010645]\n",
      " [ 32.17473703]]\n"
     ]
    }
   ],
   "source": [
    "# Defines the type of covariance function and parameters\n",
    "import geostat as geo\n",
    "covar = geo.covariance(rang=30, sill=20, typ=\"spherical\")\n",
    "vo,so = geo.ordinary_kriging_covariance(x,v,xu,covar)\n",
    "print(vo)\n",
    "print(so)"
   ]
  },
  {
   "cell_type": "code",
   "execution_count": 16,
   "metadata": {},
   "outputs": [
    {
     "name": "stdout",
     "output_type": "stream",
     "text": [
      "[[ 102.70760736]\n",
      " [ 400.38896026]\n",
      " [ 529.99471018]]\n",
      "[[   3.94873012]\n",
      " [  87.85744942]\n",
      " [ 111.39842006]]\n"
     ]
    }
   ],
   "source": [
    "\n",
    "vario = geo.variogram(rang=30, sill=20, typ=\"spherical\")\n",
    "vo,so = geo.ordinary_kriging_variogram(x,v,xu,vario)\n",
    "print(vo)\n",
    "print(so)\n"
   ]
  },
  {
   "cell_type": "code",
   "execution_count": null,
   "metadata": {
    "collapsed": true
   },
   "outputs": [],
   "source": []
  },
  {
   "cell_type": "code",
   "execution_count": 5,
   "metadata": {},
   "outputs": [
    {
     "data": {
      "text/plain": [
       "array([[  9.7,  47.6,  18.8],\n",
       "       [ 43.8,  24.6,  67.9]])"
      ]
     },
     "execution_count": 5,
     "metadata": {},
     "output_type": "execute_result"
    }
   ],
   "source": [
    "xu.shape=(2,1)\n",
    "np.concatenate((x,xu),axis=1)"
   ]
  },
  {
   "cell_type": "code",
   "execution_count": null,
   "metadata": {
    "collapsed": true
   },
   "outputs": [],
   "source": []
  }
 ],
 "metadata": {
  "kernelspec": {
   "display_name": "Python 3",
   "language": "python",
   "name": "python3"
  },
  "language_info": {
   "codemirror_mode": {
    "name": "ipython",
    "version": 3
   },
   "file_extension": ".py",
   "mimetype": "text/x-python",
   "name": "python",
   "nbconvert_exporter": "python",
   "pygments_lexer": "ipython3",
   "version": "3.6.1"
  }
 },
 "nbformat": 4,
 "nbformat_minor": 2
}
